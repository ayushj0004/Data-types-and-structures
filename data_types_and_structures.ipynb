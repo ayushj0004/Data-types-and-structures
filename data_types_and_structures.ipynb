{
  "nbformat": 4,
  "nbformat_minor": 0,
  "metadata": {
    "colab": {
      "provenance": []
    },
    "kernelspec": {
      "name": "python3",
      "display_name": "Python 3"
    },
    "language_info": {
      "name": "python"
    }
  },
  "cells": [
    {
      "cell_type": "markdown",
      "source": [
        "# **# Data types and structures**\n"
      ],
      "metadata": {
        "id": "Lh-v9WHsGTvX"
      }
    },
    {
      "cell_type": "markdown",
      "source": [],
      "metadata": {
        "id": "drg4RrUeKpb8"
      }
    },
    {
      "cell_type": "markdown",
      "source": [
        " 1.What are data structures, and why are they important?\n",
        "   - Data structures are speacialized formats used to organise,manage and store data in a computers or storage system. They provide a efficient way to arrange and manipulate data to perform operations like insertion,deletion,searching ,sorting,and more.\n",
        "\n",
        "\n",
        " 2. Explain the difference between mutable and immutable data types with examples?\n",
        "    - Mutable data types are those whose values can be changed after creation. The memory location of a mutable object remains unchanged when it is modified in-place. As a result, all references to that object will change. Example : list ,dict,set.\n",
        "\n",
        "     Immutable data types are those whose values cannot be changed after creation. When you modify an immutable object, you create a new object with the modified value, and the original object remains unchanged. As a result, any variables referencing the original object won't be updated. Example: int,float,str,tuple.\n",
        "\n",
        "\n",
        " 3.  What are the main differences between lists and tuples in Python?\n",
        "    - The main difference between lists and tuples is that lists are mutable (their contents can be changed after creation), while tuples are immutable (their contents cannot be changed after creation). Lists are defined using square brackets [], and tuples are defined using parentheses ().\n",
        "\n",
        "\n",
        " 4. Describe how dictionaries store data.\n",
        "   - Dictionaries in Python store data as key-value pairs in an unordered collection. You can access data using its associated key, which is often a human-readable string.   \n",
        "\n",
        "\n",
        " 5.  Why might you use a set instead of a list in Python?\n",
        "    - You might use a set instead of a list in Python because sets are optimized for checking for the presence of an element and for removing duplicate elements. Sets also do not maintain the order of elements, while lists do.\n",
        "\n",
        "\n",
        " 6. What is a string in Python, and how is it different from a list?\n",
        "   - A string in Python is a sequence of characters. The main difference between a string and a list is that strings are immutable (cannot be changed after creation), while lists are mutable (can be changed after creation).\n",
        "\n",
        "\n",
        " 7. How do tuples ensure data integrity in Python?\n",
        "   - Tuples ensure data integrity in Python because they are immutable, meaning their contents cannot be changed after creation. This prevents accidental modification of the data they hold.\n",
        "\n",
        "\n",
        " 8. What is a hash table, and how does it relate to dictionaries in Python?\n",
        "   -  A hash table is a data structure that stores data in key-value pairs. It uses a hash function to compute an index into an array where the value is stored. Python dictionaries are implemented using hash tables, which is why accessing elements by key is typically very efficient.\n",
        "\n",
        "\n",
        " 9. Can lists contain different data types in Python?\n",
        "   - Yes, lists in Python can contain different data types.Lists are versatile and can hold elements of various types within the same list. For example, a list can contain integers, strings, floats, or even other lists or dictionaries. This is a characteristic of Python's dynamic typing.    \n",
        "\n",
        "\n",
        " 10. Explain why strings are immutable in Python.\n",
        "   - Strings are immutable in Python because their values cannot be changed after creation. When you perform an operation that appears to modify a string, a new string object is created with the modified content, and the original string remains unchanged.\n",
        "\n",
        "\n",
        " 11. What advantages do dictionaries offer over lists for certain tasks?\n",
        "   - Dictionaries offer advantages over lists for certain tasks primarily because they store data as key-value pairs, allowing for efficient data retrieval and organization using meaningful keys rather than numerical indices. This is especially useful when you need to quickly access or manage data associated with specific identifiers.\n",
        "\n",
        "\n",
        " 12. Describe a scenario where using a tuple would be preferable over a list.\n",
        "   - tuples are preferable over lists when you have a collection of items that you want to ensure are not changed after they are created. Here's a scenario:\n",
        "    Scenario: You want to store the coordinates (x, y) of a point that should remain fixed throughout your program.\n",
        "\n",
        "\n",
        " 13. How do sets handle duplicate values in Python?\n",
        "   - In Python, sets automatically discard duplicate values. When you add an element to a set that is already present, the set remains unchanged.\n",
        "\n",
        "\n",
        " 14.  How does the “in” keyword work differently for lists and dictionaries?\n",
        "   - When using the \"in\" keyword:\n",
        "     For lists, \"in\" checks if an element is present among the list's values.\n",
        "     For dictionaries, \"in\" checks if a key exists in the dictionary.\n",
        "\n",
        "\n",
        " 15. Can you modify the elements of a tuple? Explain why or why not.\n",
        "   - No, you cannot modify the elements of a tuple in Python.\n",
        "      Tuples are an immutable data type in Python. This means that once a tuple is created, its contents cannot be changed, added to, or removed from. Any operation that appears to modify a tuple actually creates a new tuple with the changes. This immutability ensures data integrity and predictability.  \n",
        "\n",
        "\n",
        " 16. What is a nested dictionary, and give an example of its use case?\n",
        "    - A nested dictionary is a dictionary where the values are themselves dictionaries.\n",
        "    Here's an example use case:\n",
        "    student_data = {\n",
        "    \"student1\": {\n",
        "        \"name\": \"Alice\",\n",
        "        \"major\": \"Computer Science\",\n",
        "        \"gpa\": 3.8     \n",
        "\n",
        "\n",
        " 17. Describe the time complexity of accessing elements in a dictionary.\n",
        "  - Accessing elements in a Python dictionary has an average time complexity of O(1). This means that on average, retrieving a value based on its key takes constant time, regardless of the size of the dictionary. This efficiency is due to the underlying hash table implementation. In the worst-case scenario (due to hash collisions), the time complexity can degrade to O(n), where n is the number of elements, but this is rare in practice with good hash functions.\n",
        "\n",
        "\n",
        " 18. In what situations are lists preferred over dictionaries?\n",
        "   - Lists are preferred over dictionaries when:\n",
        "      -You need to maintain the order of elements.\n",
        "      - You need to access elements by their numerical index.\n",
        "      -You need to store a collection of items where the primary way to access them is by their position.\n",
        "      -You have a simple sequence of data without meaningful keys.\n",
        "\n",
        "\n",
        " 19. Why are dictionaries considered unordered, and how does that affect data retrieval?\n",
        "   - Dictionaries are considered unordered because they store data as key-value pairs without maintaining a specific order of insertion. This doesn't significantly affect data retrieval because you access data using unique keys, which provides direct and efficient access regardless of the order.\n",
        "\n",
        "\n",
        " 20.  Explain the difference between a list and a dictionary in terms of data retrieval.\n",
        "  - Lists are accessed by their numerical index (position), while dictionaries are accessed by their keys (labels).                       \n",
        "            \n",
        "           \n",
        "\n",
        "\n",
        "\n",
        "   \n",
        "   \n",
        "      \n",
        "  "
      ],
      "metadata": {
        "id": "uKjLiQb0GyPs"
      }
    },
    {
      "cell_type": "markdown",
      "source": [
        "#practical questions\n"
      ],
      "metadata": {
        "id": "B8NvM407Dz87"
      }
    },
    {
      "cell_type": "markdown",
      "source": [],
      "metadata": {
        "id": "oNbboyTAGOWH"
      }
    },
    {
      "cell_type": "code",
      "source": [
        "# Write a code to create a string with your name and print it.\n",
        "name='ayush'\n",
        "print(name)"
      ],
      "metadata": {
        "collapsed": true,
        "id": "krF_uhb0A7G1"
      },
      "execution_count": null,
      "outputs": []
    },
    {
      "cell_type": "code",
      "source": [
        "# Write a code to find the length of the string \"Hello World\".\n",
        "my_string = \"Hello World\"\n",
        "length = len(my_string)\n",
        "print(length)\n"
      ],
      "metadata": {
        "id": "Af2HOtRYCg1K"
      },
      "execution_count": null,
      "outputs": []
    },
    {
      "cell_type": "code",
      "source": [
        "#Write a code to slice the first 3 characters from the string \"Python Programming\".\n",
        "my_string = \"Python Programming\"\n",
        "sliced_string = my_string[:3]\n",
        "print(sliced_string)"
      ],
      "metadata": {
        "id": "uEQzHXewDEd-"
      },
      "execution_count": null,
      "outputs": []
    },
    {
      "cell_type": "code",
      "source": [
        "#Write a code to convert the string \"hello\" to uppercase.\n",
        "my_string = \"hello\"\n",
        "uppercase_string = my_string.upper()\n",
        "print(uppercase_string)\n"
      ],
      "metadata": {
        "id": "Rfq3oGo0Dw0-"
      },
      "execution_count": null,
      "outputs": []
    },
    {
      "cell_type": "code",
      "source": [
        "#Write a code to replace the word \"apple\" with \"orange\" in the string \"I like apple\".\n",
        "my_string = \"I like apple\"\n",
        "new_string = my_string.replace(\"apple\", \"orange\")\n",
        "print(new_string)\n"
      ],
      "metadata": {
        "id": "rwgwFb-AD6SM"
      },
      "execution_count": null,
      "outputs": []
    },
    {
      "cell_type": "code",
      "source": [
        "#Write a code to create a list with numbers 1 to 5 and print it.\n",
        "my_list = [1, 2, 3, 4, 5]\n",
        "print(my_list)\n"
      ],
      "metadata": {
        "id": "T5iO1_AZFWqi"
      },
      "execution_count": null,
      "outputs": []
    },
    {
      "cell_type": "code",
      "source": [
        "# Write a code to append the number 10 to the list [1, 2, 3, 4].\n",
        "my_list = [1, 2, 3, 4]\n",
        "my_list.append(10)\n",
        "print(my_list)\n"
      ],
      "metadata": {
        "id": "PZfF0uJzFi_G"
      },
      "execution_count": null,
      "outputs": []
    },
    {
      "cell_type": "code",
      "source": [
        "#Write a code to remove the number 3 from the list [1, 2, 3, 4, 5].\n",
        "my_list = [1, 2, 3, 4, 5]\n",
        "my_list.remove(3)\n",
        "print(my_list)\n"
      ],
      "metadata": {
        "id": "RUwdCXYbF9bf"
      },
      "execution_count": null,
      "outputs": []
    },
    {
      "cell_type": "code",
      "source": [
        "# Write a code to access the second element in the list ['a', 'b', 'c', 'd'].\n",
        "my_list = ['a', 'b', 'c', 'd']\n",
        "second_element = my_list[1]\n",
        "print(second_element)\n"
      ],
      "metadata": {
        "id": "EsQ1tgp1GM8b"
      },
      "execution_count": null,
      "outputs": []
    },
    {
      "cell_type": "code",
      "source": [
        "#Write a code to reverse the list [10, 20, 30, 40, 50].\n",
        "my_list = [10, 20, 30, 40, 50]\n",
        "my_list.reverse()\n",
        "print(my_list)\n"
      ],
      "metadata": {
        "id": "TFI3ijywGjrK"
      },
      "execution_count": null,
      "outputs": []
    },
    {
      "cell_type": "code",
      "source": [
        "#Write a code to create a tuple with the elements 100, 200, 300 and print it.\n",
        "my_tuple = (100, 200, 300)\n",
        "print(my_tuple)"
      ],
      "metadata": {
        "id": "hZSATPs2G7FQ"
      },
      "execution_count": null,
      "outputs": []
    },
    {
      "cell_type": "code",
      "source": [
        "#Write a code to access the second-to-last element of the tuple ('red', 'green', 'blue', 'yellow').\n",
        "my_tuple = ('red', 'green', 'blue', 'yellow')\n",
        "second_to_last_element = my_tuple[-2]\n",
        "print(second_to_last_element)"
      ],
      "metadata": {
        "id": "RLhMCFKvHIyL"
      },
      "execution_count": null,
      "outputs": []
    },
    {
      "cell_type": "code",
      "source": [
        "#Write a code to find the minimum number in the tuple (10, 20, 5, 15).\n",
        "my_tuple = (10, 20, 5, 15)\n",
        "minimum_number = min(my_tuple)\n",
        "print(minimum_number)\n"
      ],
      "metadata": {
        "id": "FCveSoZuHY5Y"
      },
      "execution_count": null,
      "outputs": []
    },
    {
      "cell_type": "code",
      "source": [
        " #Write a code to find the index of the element \"cat\" in the tuple ('dog', 'cat', 'rabbit').\n",
        "my_tuple = ('dog', 'cat', 'rabbit')\n",
        "index_of_cat = my_tuple.index('cat')\n",
        "print(index_of_cat)\n"
      ],
      "metadata": {
        "id": "jaJqeOcZhmFb"
      },
      "execution_count": null,
      "outputs": []
    },
    {
      "cell_type": "code",
      "source": [
        "#Write a code to create a tuple containing three different fruits and check if \"kiwi\" is in it.\n",
        "fruits_tuple = ('apple', 'banana', 'orange')\n",
        "is_kiwi_in_tuple = \"kiwi\" in fruits_tuple\n",
        "print(is_kiwi_in_tuple)"
      ],
      "metadata": {
        "id": "R3OaPV3Mh72Y"
      },
      "execution_count": null,
      "outputs": []
    },
    {
      "cell_type": "code",
      "source": [
        " #Write a code to create a set with the elements 'a', 'b', 'c' and print it.\n",
        " my_set = {'a', 'b', 'c'}\n",
        "print(my_set)\n"
      ],
      "metadata": {
        "id": "Ro07Ur6miZ3-"
      },
      "execution_count": null,
      "outputs": []
    },
    {
      "cell_type": "code",
      "source": [
        "#Write a code to clear all elements from the set {1, 2, 3, 4, 5}.\n",
        "my_set = {1, 2, 3, 4, 5}\n",
        "my_set.clear()\n",
        "print(my_set)"
      ],
      "metadata": {
        "id": "OJznbMHFi0yf"
      },
      "execution_count": null,
      "outputs": []
    },
    {
      "cell_type": "code",
      "source": [
        "#Write a code to remove the element 4 from the set {1, 2, 3, 4}.\n",
        "my_set = {1, 2, 3, 4}\n",
        "my_set.remove(4)\n",
        "print(my_set)"
      ],
      "metadata": {
        "id": "SCsx-oxsjDni"
      },
      "execution_count": null,
      "outputs": []
    },
    {
      "cell_type": "code",
      "source": [
        "#Write a code to find the union of two sets {1, 2, 3} and {3, 4, 5}.\n",
        "set1 = {1, 2, 3}\n",
        "set2 = {3, 4, 5}\n",
        "\n",
        "union_set = set1.union(set2)\n",
        "print(union_set)"
      ],
      "metadata": {
        "id": "r-rMRnkqjPnI"
      },
      "execution_count": null,
      "outputs": []
    },
    {
      "cell_type": "code",
      "source": [
        "#. Write a code to find the intersection of two sets {1, 2, 3} and {2, 3, 4}\n",
        "set1 = {1, 2, 3}\n",
        "set2 = {2, 3, 4}\n",
        "\n",
        "intersection_set = set1.intersection(set2)\n",
        "print(intersection_set)\n"
      ],
      "metadata": {
        "id": "EB-b-HLIjXh6"
      },
      "execution_count": null,
      "outputs": []
    },
    {
      "cell_type": "code",
      "source": [
        "# Write a code to create a dictionary with the keys \"name\", \"age\", and \"city\", and print it.\n",
        "my_dict = {\n",
        "    \"name\": \"ayush\",\n",
        "    \"age\": 20,\n",
        "    \"city\": \"indore\"\n",
        "}\n",
        "print(my_dict)"
      ],
      "metadata": {
        "id": "2vsPYhp6jgBq"
      },
      "execution_count": null,
      "outputs": []
    },
    {
      "cell_type": "code",
      "source": [
        "# Write a code to add a new key-value pair \"country\": \"USA\" to the dictionary {'name': 'John', 'age': 25}.\n",
        "my_dict = {'name': 'John', 'age': 25}\n",
        "my_dict[\"country\"] = \"USA\"\n",
        "print(my_dict)"
      ],
      "metadata": {
        "id": "CGnuZTrVkPQO"
      },
      "execution_count": null,
      "outputs": []
    },
    {
      "cell_type": "code",
      "source": [
        "# Write a code to access the value associated with the key \"name\" in the dictionary {'name': 'Alice', 'age': 30}.\n",
        "my_dict = {'name': 'Alice', 'age': 30}\n",
        "name_value = my_dict['name']\n",
        "print(name_value)\n"
      ],
      "metadata": {
        "id": "Ac8TjQoYkh2y"
      },
      "execution_count": null,
      "outputs": []
    },
    {
      "cell_type": "code",
      "source": [
        "#Write a code to remove the key \"age\" from the dictionary {'name': 'Bob', 'age': 22, 'city': 'New York'}.\n",
        "my_dict = {'name': 'Bob', 'age': 22, 'city': 'New York'}\n",
        "del my_dict['age']\n",
        "print(my_dict)"
      ],
      "metadata": {
        "id": "iriUAi1hk4SV"
      },
      "execution_count": null,
      "outputs": []
    },
    {
      "cell_type": "code",
      "source": [
        "#Write a code to check if the key \"city\" exists in the dictionary {'name': 'Alice', 'city': 'Paris'}.\n",
        "my_dict = {'name': 'Alice', 'city': 'Paris'}\n",
        "if \"city\" in my_dict:\n",
        "    print(\"The key 'city' exists in the dictionary.\")\n",
        "else:\n",
        "    print(\"The key 'city' does not exist in the dictionary.\")"
      ],
      "metadata": {
        "id": "FROmip8mlGf3"
      },
      "execution_count": null,
      "outputs": []
    },
    {
      "cell_type": "code",
      "source": [
        "# Write a code to create a list, a tuple, and a dictionary, and print them all.\n",
        "my_list = [1, 2, 3, 4]\n",
        "my_tuple = ( 'a', 'b', 'c' )\n",
        "my_dict = { 'name': 'Alice', 'age': 30 }\n",
        "\n",
        "print(my_list)\n",
        "print(my_tuple)\n",
        "print(my_dict)"
      ],
      "metadata": {
        "id": "NeenEQoGlXbY"
      },
      "execution_count": null,
      "outputs": []
    },
    {
      "cell_type": "code",
      "source": [
        "# Write a code to create a list of 5 random numbers between 1 and 100, sort it in ascending order, and print the result.(replaced)\n",
        "random_numbers = [random.randint(1, 100) for _ in range(5)]\n",
        "random_numbers.sort()\n",
        "print(random_numbers)\n"
      ],
      "metadata": {
        "id": "kfHqI1F7llfT"
      },
      "execution_count": null,
      "outputs": []
    },
    {
      "cell_type": "code",
      "source": [
        "#Write a code to create a list with strings and print the element at the third index.\n",
        "my_string_list = [\"apple\", \"banana\", \"cherry\", \"date\", \"elderberry\"]\n",
        "third_element = my_string_list[3]\n",
        "print(third_element)"
      ],
      "metadata": {
        "id": "CXU2JhVemhU8"
      },
      "execution_count": null,
      "outputs": []
    },
    {
      "cell_type": "code",
      "source": [
        "# Write a code to combine two dictionaries into one and print the result.\n",
        "dict1 = {'a': 1, 'b': 2}\n",
        "dict2 = {'c': 3, 'd': 4}\n",
        "combined_dict = {**dict1, **dict2}\n",
        "print(combined_dict)\n"
      ],
      "metadata": {
        "id": "VTrg-CGpmuib"
      },
      "execution_count": null,
      "outputs": []
    },
    {
      "cell_type": "code",
      "source": [
        "#Write a code to convert a list of strings into a set.\n",
        "my_string_list = [\"apple\", \"banana\", \"cherry\", \"date\", \"elderberry\"]\n",
        "my_set = set(my_string_list)\n",
        "print(my_set)"
      ],
      "metadata": {
        "id": "1LjP2R8VnAyd"
      },
      "execution_count": null,
      "outputs": []
    }
  ]
}